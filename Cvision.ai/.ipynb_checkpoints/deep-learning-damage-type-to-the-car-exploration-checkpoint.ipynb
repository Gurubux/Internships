{
 "cells": [
  {
   "cell_type": "markdown",
   "metadata": {},
   "source": [
    "**The aim of this notebook is to find the model which produces the best results for our provided data. I have made another notebook which is the cleaned version, which only contain the final model along with explanation.\n",
    "[Link to cleaned version](https://www.kaggle.com/rohan9889/deep-learning-damage-type-to-the-car-cleaned-ver)**"
   ]
  },
  {
   "cell_type": "code",
   "execution_count": 4,
   "metadata": {
    "_cell_guid": "b1076dfc-b9ad-4769-8c92-a6c4dae69d19",
    "_uuid": "8f2839f25d086af736a60e9eeb907d3b93b6e0e5"
   },
   "outputs": [
    {
     "name": "stdout",
     "output_type": "stream",
     "text": [
      "['annot_chem4', 'images_chem4']\n"
     ]
    }
   ],
   "source": [
    "import numpy as np\n",
    "import pandas as pd\n",
    "import seaborn as sns\n",
    "import matplotlib.pyplot as plt\n",
    "import os\n",
    "print(os.listdir(\"Internship/\"))"
   ]
  },
  {
   "cell_type": "markdown",
   "metadata": {},
   "source": [
    "Since our label are stored in xml format, we will have to extract info from them"
   ]
  },
  {
   "cell_type": "markdown",
   "metadata": {},
   "source": [
    "Before applying it to full directory lets experiment with 1"
   ]
  },
  {
   "cell_type": "code",
   "execution_count": 5,
   "metadata": {
    "_cell_guid": "79c7e3d0-c299-4dcb-8224-4455121ee9b0",
    "_uuid": "d629ff2d2480ee46fbb7e2d37f6b5fab8052498a"
   },
   "outputs": [],
   "source": [
    "annotations = os.listdir(\"Internship/annot_chem4/\")"
   ]
  },
  {
   "cell_type": "code",
   "execution_count": 6,
   "metadata": {},
   "outputs": [],
   "source": [
    "path_annot = \"Internship/annot_chem4/\""
   ]
  },
  {
   "cell_type": "code",
   "execution_count": 7,
   "metadata": {},
   "outputs": [],
   "source": [
    "path_images = \"Internship/images_chem4/\""
   ]
  },
  {
   "cell_type": "code",
   "execution_count": 8,
   "metadata": {},
   "outputs": [],
   "source": [
    "import xml.etree.ElementTree as ET"
   ]
  },
  {
   "cell_type": "code",
   "execution_count": 9,
   "metadata": {},
   "outputs": [],
   "source": [
    "test1 = ET.parse(os.path.join(path_annot,annotations[0]))"
   ]
  },
  {
   "cell_type": "code",
   "execution_count": 10,
   "metadata": {},
   "outputs": [
    {
     "name": "stdout",
     "output_type": "stream",
     "text": [
      "annotation: 'None'\n",
      "filename: 'akhand_b43_0.jpg'\n",
      "folder: 'images_chem4'\n",
      "size: 'None'\n",
      "width: '640'\n",
      "height: '360'\n",
      "depth: '3'\n",
      "object: 'None'\n",
      "name: 'Shatter'\n",
      "ok\n",
      "pose: 'Unspecified'\n",
      "truncated: '0'\n",
      "difficult: '0'\n",
      "bndbox: 'None'\n",
      "xmin: '315'\n",
      "ymin: '160'\n",
      "xmax: '381'\n",
      "ymax: '199'\n"
     ]
    }
   ],
   "source": [
    "for elem in test1.iter():\n",
    "    print(\"%s: '%s'\" % (elem.tag, elem.text))\n",
    "    if elem.tag == 'name':\n",
    "        print('ok')"
   ]
  },
  {
   "cell_type": "markdown",
   "metadata": {},
   "source": [
    "**So we are able to successfully extract all the info that we need, so now lets create dataframe of all the xml files contained in the folder**"
   ]
  },
  {
   "cell_type": "markdown",
   "metadata": {},
   "source": [
    "Before doing that creating a dictionary to help create Dataframe"
   ]
  },
  {
   "cell_type": "code",
   "execution_count": 11,
   "metadata": {},
   "outputs": [],
   "source": [
    "helping_dict = {}"
   ]
  },
  {
   "cell_type": "code",
   "execution_count": 12,
   "metadata": {},
   "outputs": [],
   "source": [
    "#len(annotations)"
   ]
  },
  {
   "cell_type": "code",
   "execution_count": 13,
   "metadata": {},
   "outputs": [],
   "source": [
    "for i in range(len(annotations)):\n",
    "    helping_dict[i] = 0"
   ]
  },
  {
   "cell_type": "code",
   "execution_count": 14,
   "metadata": {},
   "outputs": [],
   "source": [
    "for i in range(len(annotations)):\n",
    "    temp_dict = {}\n",
    "    et = ET.parse(os.path.join(path_annot,annotations[i]))\n",
    "    for j in et.iter():\n",
    "        if j.tag == 'filename':\n",
    "            temp_dict['FileLoc'] = os.path.join(path_images,j.text)\n",
    "            temp_dict['FileName'] = j.text\n",
    "            continue\n",
    "        if j.tag == 'name':\n",
    "            temp_dict['DamageType'] = j.text\n",
    "    helping_dict[i] = temp_dict"
   ]
  },
  {
   "cell_type": "code",
   "execution_count": 15,
   "metadata": {},
   "outputs": [],
   "source": [
    "#helping_dict"
   ]
  },
  {
   "cell_type": "markdown",
   "metadata": {},
   "source": [
    "Now we have all the data that we need in a dict, lets create dataframe from it"
   ]
  },
  {
   "cell_type": "code",
   "execution_count": 16,
   "metadata": {},
   "outputs": [],
   "source": [
    "data = pd.DataFrame(helping_dict)"
   ]
  },
  {
   "cell_type": "code",
   "execution_count": 17,
   "metadata": {},
   "outputs": [],
   "source": [
    "data = data.T"
   ]
  },
  {
   "cell_type": "code",
   "execution_count": 18,
   "metadata": {},
   "outputs": [
    {
     "data": {
      "text/html": [
       "<div>\n",
       "<style scoped>\n",
       "    .dataframe tbody tr th:only-of-type {\n",
       "        vertical-align: middle;\n",
       "    }\n",
       "\n",
       "    .dataframe tbody tr th {\n",
       "        vertical-align: top;\n",
       "    }\n",
       "\n",
       "    .dataframe thead th {\n",
       "        text-align: right;\n",
       "    }\n",
       "</style>\n",
       "<table border=\"1\" class=\"dataframe\">\n",
       "  <thead>\n",
       "    <tr style=\"text-align: right;\">\n",
       "      <th></th>\n",
       "      <th>DamageType</th>\n",
       "      <th>FileLoc</th>\n",
       "      <th>FileName</th>\n",
       "    </tr>\n",
       "  </thead>\n",
       "  <tbody>\n",
       "    <tr>\n",
       "      <th>0</th>\n",
       "      <td>Shatter</td>\n",
       "      <td>Internship/images_chem4/akhand_b43_0.jpg</td>\n",
       "      <td>akhand_b43_0.jpg</td>\n",
       "    </tr>\n",
       "    <tr>\n",
       "      <th>1</th>\n",
       "      <td>Shatter</td>\n",
       "      <td>Internship/images_chem4/akhand_b43_1.jpg</td>\n",
       "      <td>akhand_b43_1.jpg</td>\n",
       "    </tr>\n",
       "    <tr>\n",
       "      <th>2</th>\n",
       "      <td>Large_tear_or_damage</td>\n",
       "      <td>Internship/images_chem4/akhand_b43_10.jpg</td>\n",
       "      <td>akhand_b43_10.jpg</td>\n",
       "    </tr>\n",
       "    <tr>\n",
       "      <th>3</th>\n",
       "      <td>Scratch_or_spot</td>\n",
       "      <td>Internship/images_chem4/akhand_b43_100.jpg</td>\n",
       "      <td>akhand_b43_100.jpg</td>\n",
       "    </tr>\n",
       "    <tr>\n",
       "      <th>4</th>\n",
       "      <td>Scratch_or_spot</td>\n",
       "      <td>Internship/images_chem4/akhand_b43_101.jpg</td>\n",
       "      <td>akhand_b43_101.jpg</td>\n",
       "    </tr>\n",
       "  </tbody>\n",
       "</table>\n",
       "</div>"
      ],
      "text/plain": [
       "             DamageType                                     FileLoc  \\\n",
       "0               Shatter    Internship/images_chem4/akhand_b43_0.jpg   \n",
       "1               Shatter    Internship/images_chem4/akhand_b43_1.jpg   \n",
       "2  Large_tear_or_damage   Internship/images_chem4/akhand_b43_10.jpg   \n",
       "3       Scratch_or_spot  Internship/images_chem4/akhand_b43_100.jpg   \n",
       "4       Scratch_or_spot  Internship/images_chem4/akhand_b43_101.jpg   \n",
       "\n",
       "             FileName  \n",
       "0    akhand_b43_0.jpg  \n",
       "1    akhand_b43_1.jpg  \n",
       "2   akhand_b43_10.jpg  \n",
       "3  akhand_b43_100.jpg  \n",
       "4  akhand_b43_101.jpg  "
      ]
     },
     "execution_count": 18,
     "metadata": {},
     "output_type": "execute_result"
    }
   ],
   "source": [
    "data.head()"
   ]
  },
  {
   "cell_type": "markdown",
   "metadata": {},
   "source": [
    "Since we now have our required data in the Dataframe, we can now do exploration"
   ]
  },
  {
   "cell_type": "code",
   "execution_count": 19,
   "metadata": {},
   "outputs": [],
   "source": [
    "unique_damages = data['DamageType'].unique()"
   ]
  },
  {
   "cell_type": "code",
   "execution_count": 20,
   "metadata": {},
   "outputs": [
    {
     "data": {
      "text/plain": [
       "array(['Shatter', 'Large_tear_or_damage', 'Scratch_or_spot',\n",
       "       'Dislocation', 'Tear', 'Dent', 'Large_dent', nan], dtype=object)"
      ]
     },
     "execution_count": 20,
     "metadata": {},
     "output_type": "execute_result"
    }
   ],
   "source": [
    "unique_damages"
   ]
  },
  {
   "cell_type": "markdown",
   "metadata": {},
   "source": [
    "We have some missing values, lets look out for those"
   ]
  },
  {
   "cell_type": "code",
   "execution_count": 21,
   "metadata": {},
   "outputs": [
    {
     "data": {
      "text/plain": [
       "Scratch_or_spot         164\n",
       "Dent                    113\n",
       "Dislocation              87\n",
       "Large_tear_or_damage     73\n",
       "Tear                     68\n",
       "Shatter                  53\n",
       "Large_dent                2\n",
       "Name: DamageType, dtype: int64"
      ]
     },
     "execution_count": 21,
     "metadata": {},
     "output_type": "execute_result"
    }
   ],
   "source": [
    "data['DamageType'].value_counts()"
   ]
  },
  {
   "cell_type": "code",
   "execution_count": 22,
   "metadata": {},
   "outputs": [
    {
     "data": {
      "text/plain": [
       "41"
      ]
     },
     "execution_count": 22,
     "metadata": {},
     "output_type": "execute_result"
    }
   ],
   "source": [
    "data[data['DamageType'].isna()].shape[0]"
   ]
  },
  {
   "cell_type": "markdown",
   "metadata": {},
   "source": [
    "So we dont know damage type for our 41 samples, we will have to ignore them as there is now way for us to extract info obout them"
   ]
  },
  {
   "cell_type": "code",
   "execution_count": 23,
   "metadata": {},
   "outputs": [],
   "source": [
    "data.dropna(inplace=True,axis=0)"
   ]
  },
  {
   "cell_type": "code",
   "execution_count": 24,
   "metadata": {},
   "outputs": [
    {
     "data": {
      "text/plain": [
       "(560, 3)"
      ]
     },
     "execution_count": 24,
     "metadata": {},
     "output_type": "execute_result"
    }
   ],
   "source": [
    "data.shape"
   ]
  },
  {
   "cell_type": "markdown",
   "metadata": {},
   "source": [
    "Extracting its length as it will help later"
   ]
  },
  {
   "cell_type": "code",
   "execution_count": 25,
   "metadata": {},
   "outputs": [],
   "source": [
    "length_of_unique_damages = len(data['DamageType'].unique())"
   ]
  },
  {
   "cell_type": "code",
   "execution_count": 26,
   "metadata": {},
   "outputs": [
    {
     "data": {
      "text/plain": [
       "7"
      ]
     },
     "execution_count": 26,
     "metadata": {},
     "output_type": "execute_result"
    }
   ],
   "source": [
    "length_of_unique_damages"
   ]
  },
  {
   "cell_type": "markdown",
   "metadata": {},
   "source": [
    "So we have 7 unique damage types, lets map their frequencies"
   ]
  },
  {
   "cell_type": "code",
   "execution_count": 27,
   "metadata": {},
   "outputs": [
    {
     "data": {
      "text/plain": [
       "<matplotlib.axes._subplots.AxesSubplot at 0x1739ee6ada0>"
      ]
     },
     "execution_count": 27,
     "metadata": {},
     "output_type": "execute_result"
    },
    {
     "data": {
      "image/png": "[encoded data removed]",
      "text/plain": [
       "<Figure size 1152x360 with 1 Axes>"
      ]
     },
     "metadata": {},
     "output_type": "display_data"
    }
   ],
   "source": [
    "sns.set_style('whitegrid')\n",
    "plt.figure(figsize=(16,5))\n",
    "sns.countplot(x='DamageType',data=data)"
   ]
  },
  {
   "cell_type": "markdown",
   "metadata": {},
   "source": [
    "Lets use VGG19 pre-trained model available in Keras to train"
   ]
  },
  {
   "cell_type": "code",
   "execution_count": 28,
   "metadata": {},
   "outputs": [
    {
     "name": "stderr",
     "output_type": "stream",
     "text": [
      "Using TensorFlow backend.\n"
     ]
    }
   ],
   "source": [
    "import keras"
   ]
  },
  {
   "cell_type": "markdown",
   "metadata": {},
   "source": [
    "Since VGG requires images to be given in a specific format of 224 by 224, we will have to perform some preprocessing on the image"
   ]
  },
  {
   "cell_type": "markdown",
   "metadata": {},
   "source": [
    "Moreover, since the data we have is not enough we will have to augment the data by using differnt parameters to produce good results"
   ]
  },
  {
   "cell_type": "markdown",
   "metadata": {},
   "source": [
    "We will use transfer learning to do our job"
   ]
  },
  {
   "cell_type": "code",
   "execution_count": 29,
   "metadata": {},
   "outputs": [],
   "source": [
    "from keras.applications.vgg19 import preprocess_input\n",
    "from keras.preprocessing.image import ImageDataGenerator"
   ]
  },
  {
   "cell_type": "code",
   "execution_count": 30,
   "metadata": {},
   "outputs": [],
   "source": [
    "from keras.preprocessing.image import load_img, img_to_array"
   ]
  },
  {
   "cell_type": "code",
   "execution_count": 31,
   "metadata": {},
   "outputs": [],
   "source": [
    "img_rows = 224\n",
    "img_cols = 224"
   ]
  },
  {
   "cell_type": "code",
   "execution_count": 32,
   "metadata": {},
   "outputs": [],
   "source": [
    "def read_and_prep_images(img_paths, img_height=img_rows, img_width=img_cols):\n",
    "    imgs = [load_img(img_path, target_size=(img_height, img_width)) for img_path in img_paths]\n",
    "    img_array = np.array([img_to_array(img) for img in imgs])\n",
    "    output = preprocess_input(img_array)\n",
    "    return(output)"
   ]
  },
  {
   "cell_type": "code",
   "execution_count": 33,
   "metadata": {},
   "outputs": [],
   "source": [
    "image_paths = data['FileLoc']"
   ]
  },
  {
   "cell_type": "code",
   "execution_count": 34,
   "metadata": {},
   "outputs": [],
   "source": [
    "train_samples = read_and_prep_images(image_paths)"
   ]
  },
  {
   "cell_type": "code",
   "execution_count": 35,
   "metadata": {},
   "outputs": [
    {
     "data": {
      "text/plain": [
       "(560, 224, 224, 3)"
      ]
     },
     "execution_count": 35,
     "metadata": {},
     "output_type": "execute_result"
    }
   ],
   "source": [
    "train_samples.shape"
   ]
  },
  {
   "cell_type": "code",
   "execution_count": 36,
   "metadata": {},
   "outputs": [],
   "source": [
    "temp_labels = data['DamageType']"
   ]
  },
  {
   "cell_type": "code",
   "execution_count": 37,
   "metadata": {},
   "outputs": [],
   "source": [
    "unique_damages = temp_labels.unique()"
   ]
  },
  {
   "cell_type": "code",
   "execution_count": 38,
   "metadata": {},
   "outputs": [],
   "source": [
    "labels_dicct = {}"
   ]
  },
  {
   "cell_type": "code",
   "execution_count": 39,
   "metadata": {},
   "outputs": [],
   "source": [
    "for i in range(length_of_unique_damages):\n",
    "    labels_dicct[unique_damages[i]] = i"
   ]
  },
  {
   "cell_type": "code",
   "execution_count": 40,
   "metadata": {},
   "outputs": [],
   "source": [
    "def prep_data(raw):\n",
    "    return keras.utils.to_categorical(raw, length_of_unique_damages)"
   ]
  },
  {
   "cell_type": "code",
   "execution_count": 41,
   "metadata": {},
   "outputs": [],
   "source": [
    "def change_labels(blob):\n",
    "    return labels_dicct[blob]"
   ]
  },
  {
   "cell_type": "code",
   "execution_count": 42,
   "metadata": {},
   "outputs": [
    {
     "data": {
      "text/plain": [
       "{'Shatter': 0,\n",
       " 'Large_tear_or_damage': 1,\n",
       " 'Scratch_or_spot': 2,\n",
       " 'Dislocation': 3,\n",
       " 'Tear': 4,\n",
       " 'Dent': 5,\n",
       " 'Large_dent': 6}"
      ]
     },
     "execution_count": 42,
     "metadata": {},
     "output_type": "execute_result"
    }
   ],
   "source": [
    "labels_dicct"
   ]
  },
  {
   "cell_type": "code",
   "execution_count": 43,
   "metadata": {},
   "outputs": [],
   "source": [
    "temp_labels = temp_labels.apply(change_labels)"
   ]
  },
  {
   "cell_type": "code",
   "execution_count": 44,
   "metadata": {},
   "outputs": [],
   "source": [
    "train_labels = prep_data(temp_labels)"
   ]
  },
  {
   "cell_type": "markdown",
   "metadata": {},
   "source": [
    "**Since we have our data ready so now we can build our model for transfer learning**"
   ]
  },
  {
   "cell_type": "markdown",
   "metadata": {},
   "source": [
    "**First attempt**"
   ]
  },
  {
   "cell_type": "code",
   "execution_count": 52,
   "metadata": {},
   "outputs": [],
   "source": [
    "from tensorflow.keras.applications.vgg19 import VGG19"
   ]
  },
  {
   "cell_type": "code",
   "execution_count": 56,
   "metadata": {},
   "outputs": [],
   "source": [
    "from tensorflow.keras.models import Sequential\n",
    "from tensorflow.keras.layers import Dense, Flatten, GlobalAveragePooling2D"
   ]
  },
  {
   "cell_type": "code",
   "execution_count": 54,
   "metadata": {},
   "outputs": [],
   "source": [
    "model = Sequential()"
   ]
  },
  {
   "cell_type": "code",
   "execution_count": 55,
   "metadata": {},
   "outputs": [
    {
     "name": "stdout",
     "output_type": "stream",
     "text": [
      "Downloading data from https://github.com/fchollet/deep-learning-models/releases/download/v0.1/vgg19_weights_tf_dim_ordering_tf_kernels_notop.h5\n",
      "80142336/80134624 [==============================] - 51s 1us/step\n"
     ]
    }
   ],
   "source": [
    "model.add(VGG19(include_top=False,pooling='avg',weights='imagenet'))"
   ]
  },
  {
   "cell_type": "code",
   "execution_count": 57,
   "metadata": {},
   "outputs": [],
   "source": [
    "model.add(Dense(units=length_of_unique_damages, activation='softmax'))"
   ]
  },
  {
   "cell_type": "code",
   "execution_count": 58,
   "metadata": {},
   "outputs": [],
   "source": [
    "model.layers[0].trainable = False"
   ]
  },
  {
   "cell_type": "code",
   "execution_count": 59,
   "metadata": {},
   "outputs": [],
   "source": [
    "model.compile(optimizer='sgd', loss='categorical_crossentropy', metrics=['accuracy'])"
   ]
  },
  {
   "cell_type": "code",
   "execution_count": 60,
   "metadata": {},
   "outputs": [
    {
     "name": "stdout",
     "output_type": "stream",
     "text": [
      "Train on 504 samples, validate on 56 samples\n",
      "Epoch 1/8\n",
      "504/504 [==============================] - 159s 315ms/sample - loss: 4.0588 - accuracy: 0.2262 - val_loss: 3.5386 - val_accuracy: 0.2321\n",
      "Epoch 2/8\n",
      "504/504 [==============================] - 154s 305ms/sample - loss: 2.9402 - accuracy: 0.3512 - val_loss: 2.7348 - val_accuracy: 0.2500\n",
      "Epoch 3/8\n",
      "504/504 [==============================] - 155s 307ms/sample - loss: 2.5532 - accuracy: 0.3909 - val_loss: 2.8344 - val_accuracy: 0.2321\n",
      "Epoch 4/8\n",
      "504/504 [==============================] - 152s 302ms/sample - loss: 2.2902 - accuracy: 0.4187 - val_loss: 3.1141 - val_accuracy: 0.2321\n",
      "Epoch 5/8\n",
      "504/504 [==============================] - 152s 301ms/sample - loss: 2.0237 - accuracy: 0.4762 - val_loss: 2.7816 - val_accuracy: 0.2143\n",
      "Epoch 6/8\n",
      "504/504 [==============================] - 153s 304ms/sample - loss: 1.8372 - accuracy: 0.4782 - val_loss: 2.8515 - val_accuracy: 0.2143\n",
      "Epoch 7/8\n",
      "504/504 [==============================] - 152s 302ms/sample - loss: 1.6857 - accuracy: 0.5139 - val_loss: 2.9804 - val_accuracy: 0.2321\n",
      "Epoch 8/8\n",
      "504/504 [==============================] - 152s 302ms/sample - loss: 1.5928 - accuracy: 0.5119 - val_loss: 3.1099 - val_accuracy: 0.3036\n"
     ]
    },
    {
     "data": {
      "text/plain": [
       "<tensorflow.python.keras.callbacks.History at 0x173e9be38d0>"
      ]
     },
     "execution_count": 60,
     "metadata": {},
     "output_type": "execute_result"
    }
   ],
   "source": [
    "model.fit(\n",
    "    x= train_samples ,y= train_labels,\n",
    "    batch_size = 10,\n",
    "    epochs = 8,\n",
    "    validation_split = 0.1,\n",
    ")"
   ]
  },
  {
   "cell_type": "markdown",
   "metadata": {},
   "source": [
    "loss: 5.3924 - acc: 0.5099"
   ]
  },
  {
   "cell_type": "markdown",
   "metadata": {},
   "source": [
    "**Second attempt : Trying with different hyper-parameters**"
   ]
  },
  {
   "cell_type": "code",
   "execution_count": 61,
   "metadata": {},
   "outputs": [],
   "source": [
    "model2 = Sequential()"
   ]
  },
  {
   "cell_type": "code",
   "execution_count": 62,
   "metadata": {},
   "outputs": [],
   "source": [
    "model2.add(VGG19(include_top=False,pooling='avg',weights='imagenet'))"
   ]
  },
  {
   "cell_type": "code",
   "execution_count": 63,
   "metadata": {},
   "outputs": [],
   "source": [
    "model2.add(Dense(units=length_of_unique_damages, activation='softmax'))"
   ]
  },
  {
   "cell_type": "code",
   "execution_count": 64,
   "metadata": {},
   "outputs": [],
   "source": [
    "model2.layers[0].trainable = False"
   ]
  },
  {
   "cell_type": "code",
   "execution_count": 65,
   "metadata": {},
   "outputs": [],
   "source": [
    "model2.compile(optimizer='adam', loss='categorical_crossentropy', metrics=['accuracy'])"
   ]
  },
  {
   "cell_type": "code",
   "execution_count": 66,
   "metadata": {},
   "outputs": [
    {
     "name": "stdout",
     "output_type": "stream",
     "text": [
      "Train on 504 samples, validate on 56 samples\n",
      "Epoch 1/8\n",
      "504/504 [==============================] - 155s 307ms/sample - loss: 3.9316 - accuracy: 0.2837 - val_loss: 3.4748 - val_accuracy: 0.2857\n",
      "Epoch 2/8\n",
      "504/504 [==============================] - 154s 305ms/sample - loss: 2.2491 - accuracy: 0.4266 - val_loss: 3.1691 - val_accuracy: 0.3036\n",
      "Epoch 3/8\n",
      "504/504 [==============================] - 154s 305ms/sample - loss: 1.5744 - accuracy: 0.5278 - val_loss: 2.4721 - val_accuracy: 0.3571\n",
      "Epoch 4/8\n",
      "504/504 [==============================] - 153s 304ms/sample - loss: 1.2395 - accuracy: 0.5972 - val_loss: 2.9525 - val_accuracy: 0.3393\n",
      "Epoch 5/8\n",
      "504/504 [==============================] - 154s 306ms/sample - loss: 0.9545 - accuracy: 0.6647 - val_loss: 2.8271 - val_accuracy: 0.3214\n",
      "Epoch 6/8\n",
      "504/504 [==============================] - 153s 304ms/sample - loss: 0.7635 - accuracy: 0.7222 - val_loss: 3.2575 - val_accuracy: 0.3214\n",
      "Epoch 7/8\n",
      "504/504 [==============================] - 153s 304ms/sample - loss: 0.6897 - accuracy: 0.7321 - val_loss: 2.5324 - val_accuracy: 0.3571\n",
      "Epoch 8/8\n",
      "504/504 [==============================] - 153s 304ms/sample - loss: 0.5638 - accuracy: 0.8115 - val_loss: 2.7074 - val_accuracy: 0.3393\n"
     ]
    },
    {
     "data": {
      "text/plain": [
       "<tensorflow.python.keras.callbacks.History at 0x17380610048>"
      ]
     },
     "execution_count": 66,
     "metadata": {},
     "output_type": "execute_result"
    }
   ],
   "source": [
    "model2.fit(\n",
    "    x= train_samples ,y= train_labels,\n",
    "    batch_size = 5,\n",
    "    epochs = 8,\n",
    "    validation_split = 0.1,\n",
    ")"
   ]
  },
  {
   "cell_type": "markdown",
   "metadata": {},
   "source": [
    "loss: 0.6918 - acc: 0.7480"
   ]
  },
  {
   "cell_type": "markdown",
   "metadata": {},
   "source": [
    "**Third attempt**"
   ]
  },
  {
   "cell_type": "code",
   "execution_count": 67,
   "metadata": {},
   "outputs": [],
   "source": [
    "model3 = Sequential()"
   ]
  },
  {
   "cell_type": "code",
   "execution_count": 68,
   "metadata": {},
   "outputs": [],
   "source": [
    "model3.add(VGG19(include_top=False,pooling='avg',weights='imagenet'))"
   ]
  },
  {
   "cell_type": "code",
   "execution_count": 69,
   "metadata": {},
   "outputs": [],
   "source": [
    "model3.add(Dense(units=length_of_unique_damages, activation='softmax'))"
   ]
  },
  {
   "cell_type": "code",
   "execution_count": 70,
   "metadata": {},
   "outputs": [],
   "source": [
    "model3.layers[0].trainable = False"
   ]
  },
  {
   "cell_type": "code",
   "execution_count": 71,
   "metadata": {},
   "outputs": [],
   "source": [
    "model3.compile(optimizer='adam', loss='categorical_crossentropy', metrics=['accuracy'])"
   ]
  },
  {
   "cell_type": "code",
   "execution_count": 72,
   "metadata": {},
   "outputs": [
    {
     "name": "stdout",
     "output_type": "stream",
     "text": [
      "Train on 504 samples, validate on 56 samples\n",
      "Epoch 1/8\n",
      "504/504 [==============================] - 157s 311ms/sample - loss: 3.7501 - accuracy: 0.2679 - val_loss: 2.5690 - val_accuracy: 0.3750\n",
      "Epoch 2/8\n",
      "504/504 [==============================] - 156s 310ms/sample - loss: 2.1868 - accuracy: 0.4663 - val_loss: 2.6119 - val_accuracy: 0.3929\n",
      "Epoch 3/8\n",
      "504/504 [==============================] - 156s 310ms/sample - loss: 1.6187 - accuracy: 0.5496 - val_loss: 2.5483 - val_accuracy: 0.3393\n",
      "Epoch 4/8\n",
      "504/504 [==============================] - 156s 310ms/sample - loss: 1.2874 - accuracy: 0.6032 - val_loss: 2.6365 - val_accuracy: 0.3929\n",
      "Epoch 5/8\n",
      "504/504 [==============================] - 156s 309ms/sample - loss: 1.0067 - accuracy: 0.6627 - val_loss: 2.7300 - val_accuracy: 0.4107\n",
      "Epoch 6/8\n",
      "504/504 [==============================] - 156s 310ms/sample - loss: 0.7982 - accuracy: 0.7282 - val_loss: 3.2378 - val_accuracy: 0.3571\n",
      "Epoch 7/8\n",
      "504/504 [==============================] - 156s 309ms/sample - loss: 0.7091 - accuracy: 0.7520 - val_loss: 2.6291 - val_accuracy: 0.3750\n",
      "Epoch 8/8\n",
      "504/504 [==============================] - 156s 309ms/sample - loss: 0.5874 - accuracy: 0.7877 - val_loss: 3.4874 - val_accuracy: 0.2857\n"
     ]
    },
    {
     "data": {
      "text/plain": [
       "<tensorflow.python.keras.callbacks.History at 0x173816eecf8>"
      ]
     },
     "execution_count": 72,
     "metadata": {},
     "output_type": "execute_result"
    }
   ],
   "source": [
    "model3.fit(\n",
    "    x= train_samples ,y= train_labels,\n",
    "    batch_size = 3,\n",
    "    epochs = 8,\n",
    "    validation_split = 0.1,\n",
    ")"
   ]
  },
  {
   "cell_type": "markdown",
   "metadata": {},
   "source": [
    "Now lets use ImagePreprocessing of keras to furthur optimize the model"
   ]
  },
  {
   "cell_type": "code",
   "execution_count": 73,
   "metadata": {},
   "outputs": [],
   "source": [
    "def adjust_images(blob):\n",
    "    imgs = load_img(blob, target_size=(img_cols, img_rows))\n",
    "    return(imgs)"
   ]
  },
  {
   "cell_type": "code",
   "execution_count": 74,
   "metadata": {},
   "outputs": [],
   "source": [
    "data['raw_images'] = data['FileLoc'].apply(adjust_images)"
   ]
  },
  {
   "cell_type": "code",
   "execution_count": 75,
   "metadata": {},
   "outputs": [
    {
     "data": {
      "image/png": "[encoded data removed]",
      "text/plain": [
       "<PIL.Image.Image image mode=RGB size=224x224 at 0x1738021AF60>"
      ]
     },
     "execution_count": 75,
     "metadata": {},
     "output_type": "execute_result"
    }
   ],
   "source": [
    "data['raw_images'][0]"
   ]
  },
  {
   "cell_type": "code",
   "execution_count": 76,
   "metadata": {},
   "outputs": [],
   "source": [
    "from keras.applications.vgg19 import preprocess_input"
   ]
  },
  {
   "cell_type": "code",
   "execution_count": 77,
   "metadata": {},
   "outputs": [],
   "source": [
    "image_data_generator = ImageDataGenerator(preprocessing_function=preprocess_input,\n",
    "                                            horizontal_flip = True,\n",
    "                                             vertical_flip= True,\n",
    "                                              width_shift_range = 0.2,\n",
    "                                              height_shift_range = 0.2,\n",
    ")"
   ]
  },
  {
   "cell_type": "code",
   "execution_count": 78,
   "metadata": {},
   "outputs": [],
   "source": [
    "from sklearn.model_selection import train_test_split"
   ]
  },
  {
   "cell_type": "code",
   "execution_count": 79,
   "metadata": {},
   "outputs": [],
   "source": [
    "dataframe_with_largedent = data[data['DamageType']=='Large_dent']"
   ]
  },
  {
   "cell_type": "code",
   "execution_count": 80,
   "metadata": {},
   "outputs": [
    {
     "data": {
      "text/html": [
       "<div>\n",
       "<style scoped>\n",
       "    .dataframe tbody tr th:only-of-type {\n",
       "        vertical-align: middle;\n",
       "    }\n",
       "\n",
       "    .dataframe tbody tr th {\n",
       "        vertical-align: top;\n",
       "    }\n",
       "\n",
       "    .dataframe thead th {\n",
       "        text-align: right;\n",
       "    }\n",
       "</style>\n",
       "<table border=\"1\" class=\"dataframe\">\n",
       "  <thead>\n",
       "    <tr style=\"text-align: right;\">\n",
       "      <th></th>\n",
       "      <th>DamageType</th>\n",
       "      <th>FileLoc</th>\n",
       "      <th>FileName</th>\n",
       "      <th>raw_images</th>\n",
       "    </tr>\n",
       "  </thead>\n",
       "  <tbody>\n",
       "    <tr>\n",
       "      <th>26</th>\n",
       "      <td>Large_dent</td>\n",
       "      <td>Internship/images_chem4/akhand_b43_121.jpg</td>\n",
       "      <td>akhand_b43_121.jpg</td>\n",
       "      <td>&lt;PIL.Image.Image image mode=RGB size=224x224 a...</td>\n",
       "    </tr>\n",
       "    <tr>\n",
       "      <th>461</th>\n",
       "      <td>Large_dent</td>\n",
       "      <td>Internship/images_chem4/akhand_b43_513.jpg</td>\n",
       "      <td>akhand_b43_513.jpg</td>\n",
       "      <td>&lt;PIL.Image.Image image mode=RGB size=224x224 a...</td>\n",
       "    </tr>\n",
       "  </tbody>\n",
       "</table>\n",
       "</div>"
      ],
      "text/plain": [
       "     DamageType                                     FileLoc  \\\n",
       "26   Large_dent  Internship/images_chem4/akhand_b43_121.jpg   \n",
       "461  Large_dent  Internship/images_chem4/akhand_b43_513.jpg   \n",
       "\n",
       "               FileName                                         raw_images  \n",
       "26   akhand_b43_121.jpg  <PIL.Image.Image image mode=RGB size=224x224 a...  \n",
       "461  akhand_b43_513.jpg  <PIL.Image.Image image mode=RGB size=224x224 a...  "
      ]
     },
     "execution_count": 80,
     "metadata": {},
     "output_type": "execute_result"
    }
   ],
   "source": [
    "dataframe_with_largedent"
   ]
  },
  {
   "cell_type": "code",
   "execution_count": 81,
   "metadata": {},
   "outputs": [],
   "source": [
    "datax = data[data['DamageType'] != 'Large_dent']"
   ]
  },
  {
   "cell_type": "code",
   "execution_count": 82,
   "metadata": {},
   "outputs": [
    {
     "data": {
      "text/plain": [
       "(560, 4)"
      ]
     },
     "execution_count": 82,
     "metadata": {},
     "output_type": "execute_result"
    }
   ],
   "source": [
    "data.shape"
   ]
  },
  {
   "cell_type": "code",
   "execution_count": 83,
   "metadata": {},
   "outputs": [],
   "source": [
    "X_train, X_test, y_train, y_test = train_test_split(\n",
    "...     datax.drop(['DamageType'],axis=1), datax['DamageType'], test_size=0.1, random_state=101)"
   ]
  },
  {
   "cell_type": "code",
   "execution_count": 84,
   "metadata": {},
   "outputs": [],
   "source": [
    "training_data = pd.concat([X_train,y_train],axis=1)"
   ]
  },
  {
   "cell_type": "code",
   "execution_count": 85,
   "metadata": {},
   "outputs": [],
   "source": [
    "test_data = pd.concat([X_test,y_test],axis=1)"
   ]
  },
  {
   "cell_type": "code",
   "execution_count": 86,
   "metadata": {},
   "outputs": [],
   "source": [
    "training_data = training_data.append(dataframe_with_largedent.iloc[0])"
   ]
  },
  {
   "cell_type": "code",
   "execution_count": 87,
   "metadata": {},
   "outputs": [],
   "source": [
    "test_data = test_data.append(dataframe_with_largedent.iloc[1])"
   ]
  },
  {
   "cell_type": "code",
   "execution_count": 88,
   "metadata": {},
   "outputs": [],
   "source": [
    "training_data['DamageType'] = training_data['DamageType'].apply(lambda x: str(x))"
   ]
  },
  {
   "cell_type": "code",
   "execution_count": 89,
   "metadata": {},
   "outputs": [],
   "source": [
    "test_data['DamageType'] = test_data['DamageType'].apply(lambda x: str(x))"
   ]
  },
  {
   "cell_type": "code",
   "execution_count": 90,
   "metadata": {},
   "outputs": [
    {
     "name": "stdout",
     "output_type": "stream",
     "text": [
      "Found 503 images belonging to 7 classes.\n"
     ]
    }
   ],
   "source": [
    "image_train_generator=image_data_generator.flow_from_dataframe(dataframe=training_data,x_col=\"FileName\",\n",
    "                                                  y_col=\"DamageType\", class_mode=\"categorical\",\n",
    "                                                directory=path_images,\n",
    "                                                target_size=(256,256),\n",
    "                                                 batch_size=4)\n",
    "#color_mode='grayscale'"
   ]
  },
  {
   "cell_type": "code",
   "execution_count": 91,
   "metadata": {},
   "outputs": [
    {
     "name": "stdout",
     "output_type": "stream",
     "text": [
      "Found 57 images belonging to 7 classes.\n"
     ]
    }
   ],
   "source": [
    "image_test_generator=image_data_generator.flow_from_dataframe(dataframe=test_data,x_col=\"FileName\",\n",
    "                                                  y_col=\"DamageType\", class_mode=\"categorical\",\n",
    "                                                directory=path_images,\n",
    "                                                target_size=(256,256),\n",
    "                                                 batch_size=1)\n",
    "#color_mode='grayscale'"
   ]
  },
  {
   "cell_type": "code",
   "execution_count": 92,
   "metadata": {},
   "outputs": [],
   "source": [
    "model4 = Sequential()"
   ]
  },
  {
   "cell_type": "code",
   "execution_count": 93,
   "metadata": {},
   "outputs": [],
   "source": [
    "model4.add(VGG19(include_top=False,pooling='avg',weights='imagenet'))"
   ]
  },
  {
   "cell_type": "code",
   "execution_count": 94,
   "metadata": {},
   "outputs": [],
   "source": [
    "model4.add(Dense(units=length_of_unique_damages))"
   ]
  },
  {
   "cell_type": "code",
   "execution_count": 95,
   "metadata": {},
   "outputs": [],
   "source": [
    "model4.add(Dense(units=length_of_unique_damages, activation='softmax'))"
   ]
  },
  {
   "cell_type": "code",
   "execution_count": 96,
   "metadata": {},
   "outputs": [],
   "source": [
    "model4.layers[0].trainable = False"
   ]
  },
  {
   "cell_type": "code",
   "execution_count": 97,
   "metadata": {},
   "outputs": [],
   "source": [
    "model4.compile(optimizer='adam', loss='categorical_crossentropy', metrics=['accuracy'])"
   ]
  },
  {
   "cell_type": "code",
   "execution_count": 98,
   "metadata": {},
   "outputs": [],
   "source": [
    "STEP_SIZE_TRAIN=image_train_generator.n//image_train_generator.batch_size\n",
    "STEP_SIZE_VALID=image_test_generator.n//image_test_generator.batch_size"
   ]
  },
  {
   "cell_type": "code",
   "execution_count": 99,
   "metadata": {},
   "outputs": [
    {
     "name": "stdout",
     "output_type": "stream",
     "text": [
      "Epoch 1/10\n",
      "125/125 [==============================] - 204s 2s/step - loss: 3.0898 - accuracy: 0.2365 - val_loss: 2.5861 - val_accuracy: 0.2632\n",
      "Epoch 2/10\n",
      "125/125 [==============================] - 208s 2s/step - loss: 2.1128 - accuracy: 0.3447 - val_loss: 2.0557 - val_accuracy: 0.3684\n",
      "Epoch 3/10\n",
      "125/125 [==============================] - 206s 2s/step - loss: 1.8006 - accuracy: 0.3948 - val_loss: 2.1161 - val_accuracy: 0.3158\n",
      "Epoch 4/10\n",
      "125/125 [==============================] - 208s 2s/step - loss: 1.5572 - accuracy: 0.4329 - val_loss: 1.8302 - val_accuracy: 0.3333\n",
      "Epoch 5/10\n",
      "125/125 [==============================] - 205s 2s/step - loss: 1.4346 - accuracy: 0.4629 - val_loss: 1.6809 - val_accuracy: 0.4035\n",
      "Epoch 6/10\n",
      "125/125 [==============================] - 205s 2s/step - loss: 1.3494 - accuracy: 0.5010 - val_loss: 1.8898 - val_accuracy: 0.4035\n",
      "Epoch 7/10\n",
      "125/125 [==============================] - 208s 2s/step - loss: 1.2803 - accuracy: 0.4850 - val_loss: 1.9662 - val_accuracy: 0.3684\n",
      "Epoch 8/10\n",
      "125/125 [==============================] - 217s 2s/step - loss: 1.2776 - accuracy: 0.4950 - val_loss: 1.5426 - val_accuracy: 0.4035\n",
      "Epoch 9/10\n",
      "125/125 [==============================] - 223s 2s/step - loss: 1.1343 - accuracy: 0.5620 - val_loss: 1.6131 - val_accuracy: 0.3860\n",
      "Epoch 10/10\n",
      "125/125 [==============================] - 212s 2s/step - loss: 1.1027 - accuracy: 0.5663 - val_loss: 1.6480 - val_accuracy: 0.4386\n"
     ]
    },
    {
     "data": {
      "text/plain": [
       "<tensorflow.python.keras.callbacks.History at 0x173831ba470>"
      ]
     },
     "execution_count": 99,
     "metadata": {},
     "output_type": "execute_result"
    }
   ],
   "source": [
    "model4.fit_generator(generator=image_train_generator,\n",
    "                    steps_per_epoch=STEP_SIZE_TRAIN,\n",
    "                    validation_data=image_test_generator,\n",
    "                    validation_steps=STEP_SIZE_VALID,\n",
    "                    epochs=10)"
   ]
  },
  {
   "cell_type": "markdown",
   "metadata": {},
   "source": [
    "As we can see from all above examples that we get best fit and accuracy during model3, hence it is our final model"
   ]
  },
  {
   "cell_type": "markdown",
   "metadata": {},
   "source": [
    "**We have now successfully find the model that produce best result on our data.\n",
    "Thanks for reading this notebook.\n",
    "This notebook was only meant for exploration, and a cleaned version can be found by [Clicking here](https://www.kaggle.com/rohan9889/deep-learning-damage-type-to-the-car-cleaned-ver)**"
   ]
  }
 ],
 "metadata": {
  "kernelspec": {
   "display_name": "Python 3",
   "language": "python",
   "name": "python3"
  },
  "language_info": {
   "codemirror_mode": {
    "name": "ipython",
    "version": 3
   },
   "file_extension": ".py",
   "mimetype": "text/x-python",
   "name": "python",
   "nbconvert_exporter": "python",
   "pygments_lexer": "ipython3",
   "version": "3.7.0"
  }
 },
 "nbformat": 4,
 "nbformat_minor": 1
}
