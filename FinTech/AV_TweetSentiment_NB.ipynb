{
  "nbformat": 4,
  "nbformat_minor": 0,
  "metadata": {
    "colab": {
      "name": "AV_TweetSentiment_NB.ipynb",
      "version": "0.3.2",
      "provenance": [],
      "collapsed_sections": [],
      "toc_visible": true
    },
    "kernelspec": {
      "name": "python3",
      "display_name": "Python 3"
    }
  },
  "cells": [
    {
      "cell_type": "code",
      "metadata": {
        "id": "hXb6Shy9hTOC",
        "colab_type": "code",
        "colab": {
          "base_uri": "https://localhost:8080/",
          "height": 34
        },
        "outputId": "3ac8c57c-ad34-4d2b-dcf2-cf6509f27abe"
      },
      "source": [
        "from google.colab import drive\n",
        "drive.mount('/content/drive')"
      ],
      "execution_count": 2,
      "outputs": [
        {
          "output_type": "stream",
          "text": [
            "Drive already mounted at /content/drive; to attempt to forcibly remount, call drive.mount(\"/content/drive\", force_remount=True).\n"
          ],
          "name": "stdout"
        }
      ]
    },
    {
      "cell_type": "markdown",
      "metadata": {
        "id": "bUEDTCKDReyc",
        "colab_type": "text"
      },
      "source": [
        "## Pre Processing"
      ]
    },
    {
      "cell_type": "code",
      "metadata": {
        "id": "fMMykGScReeT",
        "colab_type": "code",
        "colab": {}
      },
      "source": [
        "%reload_ext autoreload\n",
        "%autoreload 2\n",
        "%matplotlib inline\n",
        "\n",
        "import os, string\n",
        "import numpy as np\n",
        "import pandas as pd\n",
        "import matplotlib.pyplot as plt\n",
        "import seaborn as sns\n",
        "\n",
        "\n",
        "import snowballstemmer\n",
        "from nltk.corpus import stopwords\n",
        "\n",
        "from sklearn.preprocessing import LabelEncoder\n",
        "from sklearn.model_selection import train_test_split, cross_val_score \n",
        "from sklearn.feature_extraction.text import TfidfVectorizer\n",
        "from sklearn.linear_model import LogisticRegression\n",
        "from sklearn import metrics\n",
        "from sklearn.base import BaseEstimator, TransformerMixin\n"
      ],
      "execution_count": 0,
      "outputs": []
    },
    {
      "cell_type": "code",
      "metadata": {
        "id": "u9pixjw7f7Me",
        "colab_type": "code",
        "outputId": "fe8b0b7a-ece9-46cc-f422-0f9a23aff954",
        "colab": {
          "base_uri": "https://localhost:8080/",
          "height": 52
        }
      },
      "source": [
        "train = pd.read_csv('/content/drive/My Drive/AnalyticsVidhya_Tweet_sentiment_Files/train_2kmZucJ.csv')\n",
        "train.head()\n",
        "print(\"Training Set:\"% train.columns, train.shape, len(train))\n",
        "test = pd.read_csv('/content/drive/My Drive/AnalyticsVidhya_Tweet_sentiment_Files/test_oJQbWVk.csv')\n",
        "print(\"Test Set:\"% test.columns, test.shape, len(test))"
      ],
      "execution_count": 4,
      "outputs": [
        {
          "output_type": "stream",
          "text": [
            "Training Set: (7920, 3) 7920\n",
            "Test Set: (1953, 2) 1953\n"
          ],
          "name": "stdout"
        }
      ]
    },
    {
      "cell_type": "code",
      "metadata": {
        "id": "Vul-jeERg3Wk",
        "colab_type": "code",
        "colab": {}
      },
      "source": [
        "import re\n",
        "def  clean_text(df, text_field):\n",
        "    df[text_field] = df[text_field].str.lower()\n",
        "    df[text_field] = df[text_field].apply(lambda elem: re.sub(r\"(@[A-Za-z0-9]+)|([^0-9A-Za-z \\t])|(\\w+:\\/\\/\\S+)|^rt|http.+?\", \"\", elem))  \n",
        "    return df\n",
        "test_clean = clean_text(test, \"tweet\")\n",
        "train_clean = clean_text(train, \"tweet\")"
      ],
      "execution_count": 0,
      "outputs": []
    },
    {
      "cell_type": "code",
      "metadata": {
        "id": "QWc0YSDKg1tE",
        "colab_type": "code",
        "outputId": "151a7626-82c9-43c3-e443-bf220271311a",
        "colab": {
          "base_uri": "https://localhost:8080/",
          "height": 443
        }
      },
      "source": [
        "from sklearn.utils import resample\n",
        "train_majority = train_clean[train_clean.label==0]\n",
        "train_minority = train_clean[train_clean.label==1]\n",
        "train_minority_upsampled = resample(train_minority, \n",
        "                                 replace=True,    \n",
        "                                 n_samples=len(train_majority),   \n",
        "                                 random_state=123)\n",
        "train_upsampled = pd.concat([train_minority_upsampled, train_majority])\n",
        "print(train_upsampled['label'].value_counts())\n",
        "train_upsampled['label'].value_counts().plot(kind='bar', figsize=(8, 6), rot=0, legend=False, title='Number of tweets by class');"
      ],
      "execution_count": 6,
      "outputs": [
        {
          "output_type": "stream",
          "text": [
            "1    5894\n",
            "0    5894\n",
            "Name: label, dtype: int64\n"
          ],
          "name": "stdout"
        },
        {
          "output_type": "display_data",
          "data": {
            "image/png": "[encoded data removed]",
            "text/plain": [
              "<Figure size 576x432 with 1 Axes>"
            ]
          },
          "metadata": {
            "tags": []
          }
        }
      ]
    },
    {
      "cell_type": "code",
      "metadata": {
        "id": "5tKs3YYdglzi",
        "colab_type": "code",
        "colab": {}
      },
      "source": [
        "X_train, X_test, y_train, y_test = train_test_split(train_upsampled['tweet'].values, train_upsampled['label'].values, test_size=0.25, random_state=0)"
      ],
      "execution_count": 0,
      "outputs": []
    },
    {
      "cell_type": "code",
      "metadata": {
        "id": "ER9X-v1MgdcS",
        "colab_type": "code",
        "colab": {}
      },
      "source": [
        "import os, string,re\n",
        "import snowballstemmer\n",
        "re_tok = re.compile(f'([{string.punctuation}“”¨«»®´·º½¾¿¡§£₤‘’])')\n",
        "stemmer = snowballstemmer.EnglishStemmer()\n",
        "def tokenize(s): \n",
        "    tokens = re_tok.sub(r' \\1 ', s).split()\n",
        "    return stemmer.stemWords(tokens)"
      ],
      "execution_count": 0,
      "outputs": []
    },
    {
      "cell_type": "code",
      "metadata": {
        "id": "VQpmBggTgX9R",
        "colab_type": "code",
        "colab": {}
      },
      "source": [
        "vect = TfidfVectorizer(strip_accents='unicode', tokenizer=tokenize, ngram_range=(1, 2), max_df=0.75, min_df=3, sublinear_tf=True)"
      ],
      "execution_count": 0,
      "outputs": []
    },
    {
      "cell_type": "code",
      "metadata": {
        "id": "14DxurqGgT4T",
        "colab_type": "code",
        "colab": {}
      },
      "source": [
        "tfidf_train = vect.fit_transform(X_train)\n",
        "tfidf_test = vect.transform(X_test)"
      ],
      "execution_count": 0,
      "outputs": []
    },
    {
      "cell_type": "code",
      "metadata": {
        "id": "OA0By4IRhbnY",
        "colab_type": "code",
        "colab": {}
      },
      "source": [
        ""
      ],
      "execution_count": 0,
      "outputs": []
    },
    {
      "cell_type": "markdown",
      "metadata": {
        "id": "tLWQfyGsVT-h",
        "colab_type": "text"
      },
      "source": [
        "## Naive Bayes"
      ]
    },
    {
      "cell_type": "code",
      "metadata": {
        "id": "Il5dAwAfMneP",
        "colab_type": "code",
        "colab": {}
      },
      "source": [
        "def naive_bayes(x, y):\n",
        "    r = []; b = []\n",
        "    labels = np.unique(y)\n",
        "\n",
        "    for l in labels:\n",
        "        other_l = labels[labels != l]\n",
        "        p = x[y == l].sum(0) + 1\n",
        "        q = x[(y == other_l[0])].sum(0) + 1\n",
        "        r.append(np.log((p/p.sum())/(q/q.sum())))\n",
        "        b.append(np.log(len(p)/len(q)))\n",
        "    \n",
        "    return r, b"
      ],
      "execution_count": 0,
      "outputs": []
    },
    {
      "cell_type": "code",
      "metadata": {
        "id": "ojHYwq60Ok2Z",
        "colab_type": "code",
        "outputId": "5af7f9d2-1173-44d7-81b0-c066b40e636c",
        "colab": {
          "base_uri": "https://localhost:8080/",
          "height": 87
        }
      },
      "source": [
        "labels = np.unique(y_train)\n",
        "for l in labels:\n",
        "        other_l = labels[labels != l]\n",
        "        print(other_l)\n",
        "        print(tfidf_train[y_train == l].sum(0) + 1)"
      ],
      "execution_count": 12,
      "outputs": [
        {
          "output_type": "stream",
          "text": [
            "[1]\n",
            "[[3.7811103  1.         1.         ... 1.         1.26699997 1.        ]]\n",
            "[0]\n",
            "[[1.66775981 1.70190564 1.70190564 ... 1.60281969 1.76722426 1.58364953]]\n"
          ],
          "name": "stdout"
        }
      ]
    },
    {
      "cell_type": "code",
      "metadata": {
        "id": "CMozRCHWMpdN",
        "colab_type": "code",
        "colab": {}
      },
      "source": [
        "r, b = naive_bayes(tfidf_train, y_train)\n",
        "\n",
        "pre_preds = []\n",
        "for j in range(len(r)):\n",
        "    pre_preds.append(np.asarray(tfidf_test @ r[j].T + b[j]).reshape(-1))\n",
        "arr = np.array(pre_preds)"
      ],
      "execution_count": 0,
      "outputs": []
    },
    {
      "cell_type": "code",
      "metadata": {
        "id": "_DVq7TIQS50m",
        "colab_type": "code",
        "outputId": "64bb2cfc-6349-45c1-f50f-bb8b4c3b49cf",
        "colab": {
          "base_uri": "https://localhost:8080/",
          "height": 87
        }
      },
      "source": [
        "print(arr)"
      ],
      "execution_count": 14,
      "outputs": [
        {
          "output_type": "stream",
          "text": [
            "[[-2.88811413  0.61146869  1.71023006 ...  4.0941192  -2.68181338\n",
            "   1.24897768]\n",
            " [ 2.88811413 -0.61146869 -1.71023006 ... -4.0941192   2.68181338\n",
            "  -1.24897768]]\n"
          ],
          "name": "stdout"
        }
      ]
    },
    {
      "cell_type": "code",
      "metadata": {
        "id": "Syz6bq7lQxea",
        "colab_type": "code",
        "outputId": "52353cf4-c224-43e8-93d8-245d34cc05c6",
        "colab": {
          "base_uri": "https://localhost:8080/",
          "height": 34
        }
      },
      "source": [
        "from sklearn import metrics\n",
        "metrics.accuracy_score(y_test, np.argmax(arr.T, 1))"
      ],
      "execution_count": 15,
      "outputs": [
        {
          "output_type": "execute_result",
          "data": {
            "text/plain": [
              "0.9226331862911435"
            ]
          },
          "metadata": {
            "tags": []
          },
          "execution_count": 15
        }
      ]
    },
    {
      "cell_type": "code",
      "metadata": {
        "id": "LU1r6mbaQ8r8",
        "colab_type": "code",
        "outputId": "988850f9-2100-4a35-815d-9ca7dc741f25",
        "colab": {
          "base_uri": "https://localhost:8080/",
          "height": 176
        }
      },
      "source": [
        "from sklearn.preprocessing import LabelEncoder\n",
        "le = LabelEncoder()\n",
        "print(metrics.classification_report(y_test, np.argmax(arr.T, 1), target_names=['postive','negative']))"
      ],
      "execution_count": 16,
      "outputs": [
        {
          "output_type": "stream",
          "text": [
            "              precision    recall  f1-score   support\n",
            "\n",
            "     postive       0.96      0.88      0.92      1519\n",
            "    negative       0.89      0.96      0.92      1428\n",
            "\n",
            "    accuracy                           0.92      2947\n",
            "   macro avg       0.92      0.92      0.92      2947\n",
            "weighted avg       0.93      0.92      0.92      2947\n",
            "\n"
          ],
          "name": "stdout"
        }
      ]
    },
    {
      "cell_type": "code",
      "metadata": {
        "id": "QnKvt7xcVoCO",
        "colab_type": "code",
        "outputId": "64d55481-9f50-4ca3-d221-deb0978cb129",
        "colab": {
          "base_uri": "https://localhost:8080/",
          "height": 34
        }
      },
      "source": [
        "metrics.f1_score(y_test, np.argmax(arr.T, 1))"
      ],
      "execution_count": 18,
      "outputs": [
        {
          "output_type": "execute_result",
          "data": {
            "text/plain": [
              "0.9234385493619879"
            ]
          },
          "metadata": {
            "tags": []
          },
          "execution_count": 18
        }
      ]
    },
    {
      "cell_type": "code",
      "metadata": {
        "id": "5Pxq9qLBbWSw",
        "colab_type": "code",
        "outputId": "9584a74d-2262-4fe1-e1bf-eb08d28e3fe6",
        "colab": {
          "base_uri": "https://localhost:8080/",
          "height": 34
        }
      },
      "source": [
        "tfidf_test_ = vect.transform(test_clean['tweet'])\n",
        "pre_preds_final = []\n",
        "for j in range(len(r)):\n",
        "    pre_preds_final.append(np.asarray(tfidf_test_ @ r[j].T + b[j]).reshape(-1))\n",
        "arr_final = np.array(pre_preds_final)\n",
        "np.argmax(arr_final.T, 1)"
      ],
      "execution_count": 19,
      "outputs": [
        {
          "output_type": "execute_result",
          "data": {
            "text/plain": [
              "array([1, 1, 1, ..., 1, 1, 0])"
            ]
          },
          "metadata": {
            "tags": []
          },
          "execution_count": 19
        }
      ]
    },
    {
      "cell_type": "code",
      "metadata": {
        "id": "zFeyoVrkbI8U",
        "colab_type": "code",
        "colab": {}
      },
      "source": [
        "y_predict_final = np.argmax(arr_final.T, 1)\n",
        "Final_df_nb = pd.DataFrame({'id':test_clean['id'], 'label':y_predict_final})\n",
        "Final_df_nb.head()\n",
        "Final_df_nb.to_csv('sample_submission_NB.csv', header=True, index=False)"
      ],
      "execution_count": 0,
      "outputs": []
    },
    {
      "cell_type": "code",
      "metadata": {
        "id": "r4NQPBXPhvzl",
        "colab_type": "code",
        "colab": {
          "base_uri": "https://localhost:8080/",
          "height": 70
        },
        "outputId": "f94a363d-b989-4bf3-abce-daf60f3cef09"
      },
      "source": [
        "Final_df_nb['label'].value_counts()"
      ],
      "execution_count": 21,
      "outputs": [
        {
          "output_type": "execute_result",
          "data": {
            "text/plain": [
              "0    1298\n",
              "1     655\n",
              "Name: label, dtype: int64"
            ]
          },
          "metadata": {
            "tags": []
          },
          "execution_count": 21
        }
      ]
    }
  ]
}